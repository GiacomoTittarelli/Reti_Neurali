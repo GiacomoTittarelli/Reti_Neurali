{
 "cells": [
  {
   "cell_type": "code",
   "execution_count": null,
   "id": "54ca4165",
   "metadata": {},
   "outputs": [],
   "source": [
    "robot_name = \"Chappie\"\n",
    "robot_age = 1\n",
    "\n",
    "print(\"Ciao! Il mio nome è \" + robot_name + \" e ho \" + str(robot_age) + \" anno\")\n",
    "\n",
    "user_name = input(\"Tu come ti chiami? \")\n",
    "print(\"Ciao \" + user_name + \"!\")\n",
    "\n",
    "user_age = int(input(\"Quanti anni hai? \"))\n",
    "age_difference = user_age - robot_age\n",
    "\n",
    "print(str(user_age) + \" anni!? Sono \" + str(age_difference) + \" più di me!\")\n",
    "print(\"A presto!\")"
   ]
  }
 ],
 "metadata": {
  "kernelspec": {
   "display_name": "Python 3 (ipykernel)",
   "language": "python",
   "name": "python3"
  },
  "language_info": {
   "codemirror_mode": {
    "name": "ipython",
    "version": 3
   },
   "file_extension": ".py",
   "mimetype": "text/x-python",
   "name": "python",
   "nbconvert_exporter": "python",
   "pygments_lexer": "ipython3",
   "version": "3.11.3"
  }
 },
 "nbformat": 4,
 "nbformat_minor": 5
}
